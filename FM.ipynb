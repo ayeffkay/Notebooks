{
 "cells": [
  {
   "cell_type": "markdown",
   "metadata": {
    "colab_type": "text",
    "id": "Imk5H2wt5ZY8"
   },
   "source": [
    "Dataset processing"
   ]
  },
  {
   "cell_type": "code",
   "execution_count": 0,
   "metadata": {
    "colab": {},
    "colab_type": "code",
    "id": "1DNojEaK5ZY9",
    "outputId": "b9c94d5e-543e-470d-f6d7-0c59cc435276"
   },
   "outputs": [
    {
     "name": "stdout",
     "output_type": "stream",
     "text": [
      "CPU times: user 2min 44s, sys: 15.9 s, total: 3min\n",
      "Wall time: 9min 54s\n"
     ]
    }
   ],
   "source": [
    "%%time\n",
    "import pandas as pd\n",
    "import numpy as np\n",
    "\n",
    "head = [\"user\", \"rating\", \"date\"]\n",
    "# Netflix prize dataset: https://www.kaggle.com/netflix-inc/netflix-prize-data\n",
    "path = \"netflix/combined_data_1.txt\"\n",
    "\n",
    "df = pd.read_table(path, names=head, delimiter=',')\n",
    "\n",
    "# items indices\n",
    "inds = pd.isnull(df).any(1).nonzero()[0]\n",
    "# items column generation\n",
    "items = []\n",
    "for i in range(inds.size):\n",
    "    dist = inds[i + 1] - inds[i] if i + 1 < inds.size \\\n",
    "                                else df.shape[0] - inds[i]\n",
    "    items += [int(df.iloc[inds[i], 0][:-1])] * dist\n",
    "df[\"item\"] = items\n",
    "# drop only-item rows, e.g. \\d+:\n",
    "df = df.drop(inds, axis=0)\n",
    "\n",
    "df[\"date\"] = pd.to_datetime(df[\"date\"])\n",
    "max_date = pd.to_datetime(\"2006-02-01\")\n",
    "# number of months\n",
    "df[\"date\"] = ((max_date - df[\"date\"]) / np.timedelta64(1, 'M')).apply(int)\n",
    "\n",
    "# renumbering users sequentially\n",
    "df[\"user\"] = df[\"user\"].rank(method=\"dense\").apply(int)\n",
    "\n",
    "df.to_hdf(\"dataset.h5\", key='df', mode='w')"
   ]
  },
  {
   "cell_type": "markdown",
   "metadata": {
    "colab_type": "text",
    "id": "vAcuUiUi5ZZF"
   },
   "source": [
    "Loading processed dataset"
   ]
  },
  {
   "cell_type": "code",
   "execution_count": 0,
   "metadata": {
    "colab": {},
    "colab_type": "code",
    "id": "DT5Ry3Zy5ZZG",
    "outputId": "a85b1571-107f-493f-d571-eabb519b7897"
   },
   "outputs": [
    {
     "name": "stdout",
     "output_type": "stream",
     "text": [
      "CPU times: user 10.9 ms, sys: 442 ms, total: 453 ms\n",
      "Wall time: 2.77 s\n"
     ]
    }
   ],
   "source": [
    "%%time\n",
    "import pandas as pd\n",
    "\n",
    "dataset = \"dataset.h5\"\n",
    "df = pd.read_hdf(dataset, \"df\")"
   ]
  },
  {
   "cell_type": "code",
   "execution_count": 0,
   "metadata": {
    "colab": {},
    "colab_type": "code",
    "id": "-BaY2ZZW5ZZK",
    "outputId": "94d559e1-0982-48e6-d198-040b179f57bf"
   },
   "outputs": [
    {
     "name": "stdout",
     "output_type": "stream",
     "text": [
      "Validation set size: 462232\n",
      "CPU times: user 173 ms, sys: 75.3 ms, total: 249 ms\n",
      "Wall time: 952 ms\n"
     ]
    }
   ],
   "source": [
    "%%time\n",
    "import numpy as np\n",
    "# validation set objects (last month)\n",
    "inds_v = np.where(df[\"date\"] == 1)[0]\n",
    "print(\"Validation set size: {}\".format(len(inds_v)))\n",
    "# train and test\n",
    "inds_l = np.where(df[\"date\"] != 1)[0]"
   ]
  },
  {
   "cell_type": "markdown",
   "metadata": {
    "colab_type": "text",
    "id": "wBdktL0h5ZZP"
   },
   "source": [
    "Sparse matrix generation"
   ]
  },
  {
   "cell_type": "code",
   "execution_count": 0,
   "metadata": {
    "colab": {},
    "colab_type": "code",
    "id": "Zz8Cpy2H5ZZR",
    "outputId": "63370cbd-ca4f-4a6a-db94-bb0e50e5f0b5"
   },
   "outputs": [
    {
     "name": "stdout",
     "output_type": "stream",
     "text": [
      "CPU times: user 42 s, sys: 3.28 s, total: 45.3 s\n",
      "Wall time: 2min 16s\n"
     ]
    }
   ],
   "source": [
    "%%time\n",
    "import numpy as np\n",
    "import pandas as pd\n",
    "from scipy.sparse import csr_matrix, save_npz\n",
    "\n",
    "dataset = \"dataset.h5\"\n",
    "df = pd.read_hdf(dataset, \"df\")\n",
    "\n",
    "# rows number in sparse matrix\n",
    "# same as objects number\n",
    "rows = df.shape[0]\n",
    "\n",
    "max_u = df[\"user\"].max()\n",
    "max_i = df[\"item\"].max()\n",
    "# columns number in sparse matrix\n",
    "# given users and items were numbered sequentially\n",
    "cols = max_u + max_i + 1\n",
    "\n",
    "# nonzero row indices\n",
    "i = list(range(rows)) * 3\n",
    "\n",
    "# nonzero column indices\n",
    "j = (df[\"user\"] - 1).append(df[\"item\"] + max_u - 1).values\n",
    "j = np.hstack((j, [max_u + max_i] * rows))\n",
    "\n",
    "# nonzero matrix cells\n",
    "values = np.hstack((np.ones(rows * 2), df[\"date\"].values))\n",
    "\n",
    "X_sparse = csr_matrix((values, (i, j)), shape=(rows, cols))\n",
    "save_npz(\"X.npz\", X_sparse)\n",
    "\n",
    "# ratings\n",
    "df[\"rating\"].to_hdf(\"y.h5\", key='y', mode='w')"
   ]
  },
  {
   "cell_type": "markdown",
   "metadata": {
    "colab_type": "text",
    "id": "Knq14sXJ5ZZU"
   },
   "source": [
    "Prediction"
   ]
  },
  {
   "cell_type": "code",
   "execution_count": 0,
   "metadata": {
    "colab": {},
    "colab_type": "code",
    "id": "1PNFK9U65ZZV"
   },
   "outputs": [],
   "source": [
    "def lin(w0, W, X):\n",
    "    return w0 + X.dot(W)\n",
    "\n",
    "def interactions(V, X):\n",
    "    f = V.shape[1]\n",
    "    # for summing via matrix-vector product\n",
    "    ones_f = np.ones((f, 1))\n",
    "    \n",
    "    Z = X.dot(V)\n",
    "    X2 = X.power(2)\n",
    "    V2 = np.square(V)\n",
    "    Z2 = X2.dot(V2)\n",
    "    nonlinear = 0.5 * (np.square(Z) - Z2).dot(ones_f)\n",
    "    return nonlinear, Z\n",
    "\n",
    "def predict(w0, W, V, X):\n",
    "    l = lin(w0, W, X)\n",
    "    i, Z = interactions(V, X)\n",
    "    return l + i, Z"
   ]
  },
  {
   "cell_type": "markdown",
   "metadata": {
    "colab_type": "text",
    "id": "Dhv8Up2q5ZZa"
   },
   "source": [
    "Quality"
   ]
  },
  {
   "cell_type": "code",
   "execution_count": 0,
   "metadata": {
    "colab": {},
    "colab_type": "code",
    "id": "om2vMDlv5ZZc"
   },
   "outputs": [],
   "source": [
    "def eps(y_pred, y):\n",
    "    return y_pred - y\n",
    "\n",
    "def mse(y_pred, y):\n",
    "    e = eps(y_pred, y)\n",
    "    return 1 / e.shape[0] * e.T.dot(e)\n",
    "    \n",
    "def rmse(y_pred, y):\n",
    "    return np.sqrt(mse(y_pred, y))\n",
    "\n",
    "def r2(y_pred, y):\n",
    "    e = eps(y_pred, y)\n",
    "    residual = e.T.dot(e)\n",
    "    t = y - np.mean(y)\n",
    "    total = t.T.dot(t)\n",
    "    return (1 - residual / total)[0, 0]\n",
    "\n",
    "def evaluate(w0, W, V, X, y):\n",
    "    y_hat, Z = predict(w0, W, V, X)\n",
    "    rmse_ = rmse(y_hat, y)\n",
    "    r2_ = r2(y_hat, y)\n",
    "    return y_hat, rmse_, r2_"
   ]
  },
  {
   "cell_type": "markdown",
   "metadata": {
    "colab_type": "text",
    "id": "jyVatXNI5ZZf"
   },
   "source": [
    "Some functions"
   ]
  },
  {
   "cell_type": "code",
   "execution_count": 0,
   "metadata": {
    "colab": {},
    "colab_type": "code",
    "id": "e-dw2IP05ZZg"
   },
   "outputs": [],
   "source": [
    "from scipy.sparse import diags\n",
    "# parameter update via mini-batch GD\n",
    "def update(eta, w0, W, V, X, y, y_pred, Z):\n",
    "    e = eps(y_pred, y)\n",
    "    w0 = w0 - eta[0] * 2 * np.mean(e)\n",
    "    \n",
    "    X_eps = X.transpose().dot(e)\n",
    "    W = W - eta[1] * 2 / X.shape[0] * X_eps\n",
    "        \n",
    "    X_eps_d = X.transpose().dot(diags(e.T[0]))\n",
    "    X2 = X.power(2)\n",
    "    X2_eps = X2.transpose().dot(e)\n",
    "    V = V - eta[2] * 2 / X.shape[0] * (X_eps_d.dot(Z) - \n",
    "                                        diags(X2_eps.transpose()[0], shape=(d, d)).dot(V))\n",
    "    return w0, W, V"
   ]
  },
  {
   "cell_type": "markdown",
   "metadata": {
    "colab_type": "text",
    "id": "uVvZeIT85ZZj"
   },
   "source": [
    "Sparse matrix loading"
   ]
  },
  {
   "cell_type": "code",
   "execution_count": 0,
   "metadata": {
    "colab": {},
    "colab_type": "code",
    "id": "DMKn4jsj5ZZk",
    "outputId": "7857a8e3-58f1-4d2e-e5e1-bef40f02648d"
   },
   "outputs": [
    {
     "name": "stdout",
     "output_type": "stream",
     "text": [
      "CPU times: user 5.86 s, sys: 2.29 s, total: 8.16 s\n",
      "Wall time: 4min 55s\n"
     ]
    }
   ],
   "source": [
    "%%time\n",
    "import numpy as np\n",
    "import pandas as pd\n",
    "from scipy.sparse import load_npz\n",
    "\n",
    "X = load_npz(\"X.npz\")\n",
    "\n",
    "y = pd.read_hdf(\"y.h5\").values\n",
    "y = y[:, np.newaxis]\n",
    "\n",
    "# validation set\n",
    "X_v = X[inds_v[:3000]]\n",
    "y_v = y[inds_v[:3000]]\n",
    "\n",
    "# train & test\n",
    "X = X[inds_l]\n",
    "y = y[inds_l]\n",
    "\n",
    "# m - objects number\n",
    "# d - features number\n",
    "m, d = X.shape\n",
    "# fct - factors number\n",
    "fct = 8"
   ]
  },
  {
   "cell_type": "markdown",
   "metadata": {
    "colab_type": "text",
    "id": "zzP9bWLN5ZZp"
   },
   "source": [
    "Batch size selection"
   ]
  },
  {
   "cell_type": "code",
   "execution_count": 0,
   "metadata": {
    "colab": {},
    "colab_type": "code",
    "id": "eW9Q11K65ZZr",
    "outputId": "7404cf07-84da-42bc-e865-76a5459cffa8"
   },
   "outputs": [
    {
     "data": {
      "image/png": "[encoded data removed]",
      "text/plain": [
       "<matplotlib.figure.Figure at 0x7fa6798e9ef0>"
      ]
     },
     "metadata": {
      "tags": []
     },
     "output_type": "display_data"
    },
    {
     "data": {
      "image/png": "[encoded data removed]",
      "text/plain": [
       "<matplotlib.figure.Figure at 0x7fa6798e9ef0>"
      ]
     },
     "metadata": {
      "tags": []
     },
     "output_type": "display_data"
    }
   ],
   "source": [
    "%matplotlib inline\n",
    "import time\n",
    "import pylab as pl\n",
    "from IPython import display\n",
    "\n",
    "# bias\n",
    "w0 = 0\n",
    "# weights vector\n",
    "W = np.zeros((d, 1))\n",
    "# factors matrix\n",
    "V = np.random.rand(d, fct)\n",
    "# learning rate (w_0, W, V)\n",
    "eta = [0.1, 0.001, 0.0003]\n",
    "\n",
    "t = []\n",
    "batch_sz = []\n",
    "i = 0\n",
    "b = 1024\n",
    "while i < m:\n",
    "    start = time.time()\n",
    "    \n",
    "    if i + b <= m:\n",
    "        X_b = X[i:i+b]\n",
    "        y_b = y[i:i+b]\n",
    "    else:\n",
    "        X_b = X[i:m]\n",
    "        y_b = y[i:m]\n",
    "            \n",
    "    # prediction on batch\n",
    "    y_hat, Z = predict(w0, W, V, X_b)\n",
    "            \n",
    "    # update\n",
    "    w0, W, V = update(eta, w0, W, V, X_b, y_b, y_hat, Z)\n",
    "    \n",
    "    stop = time.time()\n",
    "    t.append(stop - start)\n",
    "    batch_sz.append(b)\n",
    "    i += b\n",
    "    b += 128\n",
    "    \n",
    "    pl.plot(batch_sz, t)\n",
    "    display.clear_output(wait=True)\n",
    "    pl.xlabel('batch size')\n",
    "    pl.ylabel('time, sec.')\n",
    "    # pl.xticks(batch_sz)\n",
    "    display.display(pl.gcf())\n",
    "    time.sleep(1.0)\n"
   ]
  },
  {
   "cell_type": "markdown",
   "metadata": {
    "colab_type": "text",
    "id": "bBG8nJYp5ZZu"
   },
   "source": [
    "Parameter initialization"
   ]
  },
  {
   "cell_type": "code",
   "execution_count": 0,
   "metadata": {
    "colab": {},
    "colab_type": "code",
    "id": "g6q9r0Im5ZZw"
   },
   "outputs": [],
   "source": [
    "from sklearn.model_selection import KFold\n",
    "folds = 5\n",
    "kf = KFold(n_splits=folds, shuffle=True)\n",
    "\n",
    "# batch size\n",
    "b = 4000\n",
    "\n",
    "# max full sample passes\n",
    "MAX_IT = 5\n",
    "\n",
    "rmse_train = []\n",
    "rmse_test = []\n",
    "r2_train = []\n",
    "r2_test = []"
   ]
  },
  {
   "cell_type": "code",
   "execution_count": null,
   "metadata": {
    "colab": {},
    "colab_type": "code",
    "id": "Pin_NEW55ZZ1",
    "outputId": "9a20ae01-22ac-439c-a277-64be48bef2c0"
   },
   "outputs": [],
   "source": [
    "from ipywidgets import IntProgress\n",
    "from IPython.display import display\n",
    "import time\n",
    "\n",
    "\n",
    "# progress bar for folds\n",
    "fold = IntProgress(min=0, max=folds, step=1, description='Folds:', value=0)\n",
    "display(fold)\n",
    "\n",
    "# progress bar for iterations\n",
    "iterations = IntProgress(min=0, max=MAX_IT, step=1, description='Iterations:', value=0)\n",
    "display(iterations)\n",
    "\n",
    "# progress bar for batch\n",
    "batch = IntProgress(min=0, max=m, step=b, description='Sample:', value=0)\n",
    "display(batch)\n",
    "\n",
    "# curent result on validation set\n",
    "r2_v2 = 0\n",
    "rmse_v2 = 0\n",
    "y_hat_v2 = np.zeros((y_v.shape[0], 1))\n",
    "for train, test in kf.split(X):\n",
    "    # bias\n",
    "    w0 = 0\n",
    "    # weights vector\n",
    "    W = np.zeros((d, 1))\n",
    "    # factors matrix\n",
    "    V = np.random.rand(d, fct)\n",
    "    \n",
    "    # learning rate (w_0, W, V)\n",
    "    eta = [0.1, 0.001, 0.0003]\n",
    "    \n",
    "    # passes through the sample\n",
    "    it = 0\n",
    "    iterations.value = 0\n",
    "    # one fold\n",
    "    while True:\n",
    "        np.random.shuffle(train)\n",
    "        batch.value = 0\n",
    "        start = time.time()\n",
    "        # one full pass through the training set with step b\n",
    "        for i in range(0, train.size, b):\n",
    "            if i + b <= train.size:\n",
    "                X_b = X[train[i:i+b]]\n",
    "                y_b = y[train[i:i+b]]\n",
    "            else:\n",
    "                X_b = X[train[i:train.size]]\n",
    "                y_b = y[train[i:train.size]]\n",
    "                \n",
    "            # prediction on batch\n",
    "            y_hat, Z = predict(w0, W, V, X_b)\n",
    "            # update\n",
    "            w0, W, V = update(eta, w0, W, V, X_b, y_b, y_hat, Z)\n",
    "            # prediction on validation set after update\n",
    "            y_hat_v1, rmse_v1, r2_v1 = y_hat_v2, rmse_v2, r2_v2\n",
    "            y_hat_v2, rmse_v2, r2_v2 = evaluate(w0, W, V, X_v, y_v)\n",
    "            \n",
    "            # possible stop 1 (no difference between predictions on validation set after update)\n",
    "            #if np.mean(np.abs(y_hat_v1 - y_hat_v2)) < 10**-20:\n",
    "                # for exit from outer loop\n",
    "                # it = MAX_IT-1\n",
    "                # break\n",
    "             # performance check\n",
    "            if (i + b) % 100 == 0:\n",
    "                print(\"After learning on {} objects: RMSE_valid = {}, R2_valid={}\".format(i, rmse_v2, r2_v2))\n",
    "\n",
    "\n",
    "            # learning rate decreasing\n",
    "            if rmse_v2 > rmse_v1:\n",
    "                eta[0] /= 2\n",
    "                eta[1] /= 2\n",
    "                eta[2] /= 2\n",
    "            elif rmse_v1 < rmse_v2:\n",
    "                eta[0] += 0.05 * eta[0]\n",
    "                eta[1] += 0.05 * eta[1]\n",
    "                eta[2] += 0.05 * eta[2]\n",
    "\n",
    "            batch.value += b\n",
    "\n",
    "        stop = time.time()\n",
    "        print(\"Full sample processing time: {} min.\".format((stop - start) / 60))\n",
    "        it += 1\n",
    "        # increment iterations progress bar\n",
    "        iterations.value += 1\n",
    "        \n",
    "        # possible stop 2\n",
    "        if it == MAX_IT:\n",
    "            np.random.shuffle(train)\n",
    "            y_train, rmse_train_, r2_train_ = evaluate(w0, W, V, X[train[:10000]], y[train[:10000]])\n",
    "            y_test, rmse_test_, r2_test_ = evaluate(w0, W, V, X[test[:10000]], y[test[:10000]])\n",
    "            \n",
    "            rmse_train.append(rmse_train_)\n",
    "            rmse_test.append(rmse_test_)\n",
    "\n",
    "            r2_train.append(r2_train_)\n",
    "            r2_test.append(r2_test_)\n",
    "            break\n",
    "    # increment the fold progress bar\n",
    "    fold.value += 1"
   ]
  },
  {
   "cell_type": "code",
   "execution_count": 0,
   "metadata": {
    "colab": {},
    "colab_type": "code",
    "id": "QssGdfNb5ZaX",
    "outputId": "7676cbdf-2b7f-4e29-f161-ae64c4544f3a"
   },
   "outputs": [
    {
     "name": "stdout",
     "output_type": "stream",
     "text": [
      "[array([[4.26863188]]), array([[3.76715575]]), array([[3.43111266]]), array([[3.20372773]]), array([[3.81279074]])]\n",
      "[array([[3.63991284]]), array([[3.25530589]]), array([[3.43558679]]), array([[2.80778652]]), array([[3.02646492]])]\n"
     ]
    }
   ],
   "source": [
    "print(rmse_train)\n",
    "print(rmse_test)"
   ]
  },
  {
   "cell_type": "code",
   "execution_count": 0,
   "metadata": {
    "colab": {},
    "colab_type": "code",
    "id": "I_QxIfm45Zac"
   },
   "outputs": [],
   "source": [
    "rmse_train_ = np.append(rmse_train, [np.mean(rmse_train), np.std(rmse_train)])\n",
    "rmse_test_ = np.append(rmse_test, [np.mean(rmse_test), np.std(rmse_test)])\n",
    "\n",
    "r2_train_ = np.append(r2_train, [np.mean(r2_train), np.std(r2_train)])\n",
    "r2_test_ = np.append(r2_test, [np.mean(r2_test), np.std(r2_test)])\n",
    "\n",
    "tmp = [rmse_train_, rmse_test_, r2_train_, r2_test_]\n",
    "\n",
    "res = pd.DataFrame(columns=[\"1\", \"2\", \"3\", \"4\", \"5\", \"Mean\", \"Std\"], data=tmp)\n",
    "df.insert(loc=0, column=\"Fold No.\", value=[\"RMSE train\", \"RMSE test\", \"R2 train\", \"R2 test\"])\n",
    "print(res)"
   ]
  }
 ],
 "metadata": {
  "colab": {
   "name": "FM_netflix.ipynb",
   "provenance": [],
   "version": "0.3.2"
  },
  "kernelspec": {
   "display_name": "Python 3",
   "language": "python",
   "name": "python3"
  },
  "language_info": {
   "codemirror_mode": {
    "name": "ipython",
    "version": 3
   },
   "file_extension": ".py",
   "mimetype": "text/x-python",
   "name": "python",
   "nbconvert_exporter": "python",
   "pygments_lexer": "ipython3",
   "version": "3.7.5"
  }
 },
 "nbformat": 4,
 "nbformat_minor": 1
}
